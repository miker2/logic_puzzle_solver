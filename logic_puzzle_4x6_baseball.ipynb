{
 "cells": [
  {
   "cell_type": "code",
   "execution_count": null,
   "id": "37d66b6b-ab75-44ee-aded-5d843ecda100",
   "metadata": {},
   "outputs": [],
   "source": [
    "import logging\n",
    "\n",
    "from logic_puzzle import LogicPuzzle, either_or, pairs, delta_comparison, neither_nor\n",
    "\n",
    "logger = logging.getLogger(__name__)\n",
    "logging.basicConfig(level=logging.WARN)\n",
    "\n",
    "categories = {'years' : [2005, 2006, 2007, 2008, 2009, 2010],\n",
    "              'players' : [\"Jackie\", \"Kenny\", \"Michael\", \"Nelson\", \"Victor\", \"Zachary\"],\n",
    "              'teams' : [\"Angels\", \"Dodgers\", \"Giants\", \"Mariners\", \"Reds\", \"Tigers\"],\n",
    "              'hometown' : [\"Apple Valley\", \"Lovell\", \"Pasadena\", \"Treynor\", \"Wallagrass\", \"York\"]}\n",
    "\n",
    "puzzle = LogicPuzzle(categories)\n"
   ]
  },
  {
   "cell_type": "code",
   "execution_count": null,
   "id": "d77f252f-270e-44c9-9355-07daf5812c37",
   "metadata": {},
   "outputs": [],
   "source": [
    "puzzle.execute_rules()"
   ]
  },
  {
   "cell_type": "code",
   "execution_count": null,
   "id": "229dc037-11cb-4528-9543-4747a12053dd",
   "metadata": {},
   "outputs": [],
   "source": [
    "year_delta = lambda g, lesser, greater, delta: delta_comparison(g, lesser, greater, delta, \"years\")\n",
    "placeholder = lambda g: print(\"derp\")\n",
    "\n",
    "# Rule 1\n",
    "# NOTE: Add a relational/comparison rule that isn't based on a fixed delta\n",
    "puzzle.add_rule(lambda g: year_delta(g, \"Jackie\", \"Mariners\", 0.1))\n",
    "\n",
    "# Rule 2\n",
    "puzzle.add_rule(lambda g: g.mark_false(\"Reds\", 2007))\n",
    "\n",
    "# Rule 3\n",
    "puzzle.add_rule(lambda g: year_delta(g, \"Zachary\", \"Reds\", 1))\n",
    "\n",
    "# Rule 4\n",
    "puzzle.add_rule(lambda g: either_or(g, 2010, (\"Angels\", \"Michael\")))\n",
    "\n",
    "# Rule 5\n",
    "puzzle.add_rule(lambda g: either_or(g, \"Nelson\", (\"York\", 2008)))\n",
    "\n",
    "# Rule 6\n",
    "puzzle.add_rule(lambda g: neither_nor(g, \"Mariners\", (\"York\", 2010)))\n",
    "\n",
    "puzzle.add_rule(lambda g: g.mark_true(2010, \"Wallagrass\"))\n",
    "\n",
    "# # Rule 8\n",
    "puzzle.add_rule(lambda g: g.mark_false(\"Victor\", \"Apple Valley\"))\n",
    "\n",
    "# # Rule \n",
    "# Clue: If of Jackie and Nelson, one equals Tigers and the other equals 2007,\n",
    "#       and Jackie and Nelson are in the same category, then Tigers cannot equal Kenny\n",
    "# Why?\n",
    "# Because if someone can't be 2007 or Tigers, they can't be the other.\n",
    "puzzle.add_rule(lambda g: pairs(g, (\"Jackie\", \"Nelson\"), (\"Tigers\", 2007)))\n",
    "\n",
    "# # Rule 10\n",
    "puzzle.add_rule(lambda g: pairs(g, (\"Kenny\", \"Reds\"), (\"Treynor\", 2009)))\n",
    "\n",
    "# # Rule 11\n",
    "puzzle.add_rule(lambda g: g.mark_true(\"Lovell\", \"Angels\"))\n",
    "\n",
    "# # Rule 12\n",
    "puzzle.add_rule(lambda g: pairs(g, (\"Treynor\", \"Giants\"), (2007, \"Kenny\")))\n"
   ]
  },
  {
   "cell_type": "code",
   "execution_count": null,
   "id": "bb859da6-6711-42cd-b8a9-e2a27a7ce0cb",
   "metadata": {},
   "outputs": [],
   "source": [
    "puzzle.execute_rules()"
   ]
  },
  {
   "cell_type": "code",
   "execution_count": null,
   "id": "a2d64711-b50d-4c37-b201-66912442cd23",
   "metadata": {},
   "outputs": [],
   "source": [
    "assert puzzle.edge_count == 36"
   ]
  }
 ],
 "metadata": {
  "kernelspec": {
   "display_name": "Python 3 (ipykernel)",
   "language": "python",
   "name": "python3"
  },
  "language_info": {
   "codemirror_mode": {
    "name": "ipython",
    "version": 3
   },
   "file_extension": ".py",
   "mimetype": "text/x-python",
   "name": "python",
   "nbconvert_exporter": "python",
   "pygments_lexer": "ipython3",
   "version": "3.12.2"
  }
 },
 "nbformat": 4,
 "nbformat_minor": 5
}
