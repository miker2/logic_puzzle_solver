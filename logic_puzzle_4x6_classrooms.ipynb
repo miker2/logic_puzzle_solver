{
 "cells": [
  {
   "cell_type": "code",
   "execution_count": null,
   "id": "37d66b6b-ab75-44ee-aded-5d843ecda100",
   "metadata": {},
   "outputs": [],
   "source": [
    "import logging\n",
    "\n",
    "from logic_puzzle import (\n",
    "  LogicPuzzle, \n",
    "  Comparison,\n",
    "  either_or, \n",
    "  pairs, \n",
    "  delta_comparison, \n",
    "  mutually_exclusive,\n",
    ")\n",
    "\n",
    "logger = logging.getLogger(__name__)\n",
    "logging.basicConfig(level=logging.WARN)\n",
    "\n",
    "categories = {'sizes' : [29, 31, 33, 35, 37, 39],\n",
    "              'rooms' : [114, 120, 208, 212, 314, 412],\n",
    "              'teachers' : [\"Gilmore\", \"Paul\", \"Ray\", \"Saunders\", \"Tanner\", \"Underwood\"],\n",
    "              'classes' : [\"Algebra\", \"English\", \"French\", \"History\", \"Physics\", \"Pre-Calculus\"]}\n",
    "\n",
    "puzzle = LogicPuzzle(categories, \"sizes\")\n"
   ]
  },
  {
   "cell_type": "code",
   "execution_count": null,
   "id": "d77f252f-270e-44c9-9355-07daf5812c37",
   "metadata": {},
   "outputs": [],
   "source": [
    "puzzle.execute_rules()"
   ]
  },
  {
   "cell_type": "code",
   "execution_count": null,
   "id": "229dc037-11cb-4528-9543-4747a12053dd",
   "metadata": {},
   "outputs": [],
   "source": [
    "size_delta = lambda g, lesser, greater, delta: delta_comparison(g, lesser, greater, delta, \"sizes\")\n",
    "placeholder = lambda g: print(\"derp\")\n",
    "\n",
    "# Rule 1\n",
    "puzzle.add_rule(lambda g: pairs(g, (37, \"Tanner\"), (212, \"History\")))\n",
    "# puzzle.add_rule(placeholder)\n",
    "\n",
    "# # Rule 2\n",
    "puzzle.add_rule(lambda g: g.mark_false(\"English\", \"Saunders\"))\n",
    "# puzzle.add_rule(placeholder)\n",
    "\n",
    "def rule3(graph):\n",
    "    graph.mark_false(314, \"History\")\n",
    "    graph.mark_false(208, \"History\")\n",
    "puzzle.add_rule(rule3)\n",
    "# puzzle.add_rule(placeholder)\n",
    "\n",
    "# Create rule 4\n",
    "puzzle.add_rule(Comparison(lesser=\"Ray\", greater=\"Algebra\"))\n",
    "\n",
    "# Rule 5\n",
    "puzzle.add_rule(lambda g: size_delta(g, \"Paul\", \"Pre-Calculus\", 4))\n",
    "\n",
    "# Rule 6\n",
    "puzzle.add_rule(lambda g: size_delta(g, 314, \"Paul\", 4))\n",
    "\n",
    "# Rule 7\n",
    "puzzle.add_rule(lambda g: mutually_exclusive(g, [29, 208, 212, 120, \"French\"]))\n",
    "\n",
    "# # Rule 8\n",
    "puzzle.add_rule(lambda g: g.mark_false(120, \"Pre-Calculus\"))\n",
    "\n",
    "# # Rule 9\n",
    "puzzle.add_rule(lambda g: g.mark_false(314, \"French\"))\n",
    "\n",
    "# # Rule 10\n",
    "puzzle.add_rule(lambda g: g.mark_false(37, \"Underwood\"))\n",
    "\n",
    "# # Rule 11\n",
    "puzzle.add_rule(lambda g: g.mark_false(114, \"History\"))\n",
    "\n",
    "# # Rule 12\n",
    "puzzle.add_rule(lambda g: pairs(g, (\"Algebra\", 29), (\"Tanner\", \"Underwood\")))\n",
    "\n",
    "# # Rule 13\n",
    "puzzle.add_rule(lambda g: g.mark_false(212, \"Gilmore\"))\n",
    "\n",
    "# Rule 14\n",
    "puzzle.add_rule(Comparison(lesser=\"History\", greater=\"Ray\"))\n"
   ]
  },
  {
   "cell_type": "code",
   "execution_count": null,
   "id": "bb859da6-6711-42cd-b8a9-e2a27a7ce0cb",
   "metadata": {},
   "outputs": [],
   "source": [
    "puzzle.execute_rules()"
   ]
  },
  {
   "cell_type": "code",
   "execution_count": null,
   "id": "a2d64711-b50d-4c37-b201-66912442cd23",
   "metadata": {},
   "outputs": [],
   "source": [
    "assert puzzle.edge_count == 36"
   ]
  }
 ],
 "metadata": {
  "kernelspec": {
   "display_name": "Python 3 (ipykernel)",
   "language": "python",
   "name": "python3"
  },
  "language_info": {
   "codemirror_mode": {
    "name": "ipython",
    "version": 3
   },
   "file_extension": ".py",
   "mimetype": "text/x-python",
   "name": "python",
   "nbconvert_exporter": "python",
   "pygments_lexer": "ipython3",
   "version": "3.12.2"
  }
 },
 "nbformat": 4,
 "nbformat_minor": 5
}
