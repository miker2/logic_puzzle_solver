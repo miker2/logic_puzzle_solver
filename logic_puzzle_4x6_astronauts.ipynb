{
 "cells": [
  {
   "cell_type": "code",
   "execution_count": null,
   "id": "37d66b6b-ab75-44ee-aded-5d843ecda100",
   "metadata": {},
   "outputs": [],
   "source": [
    "import logging\n",
    "\n",
    "from logic_puzzle import (\n",
    "  LogicPuzzle, \n",
    "  Comparison,\n",
    "  either_or, \n",
    "  pairs, \n",
    "  delta_comparison, \n",
    "  mutually_exclusive,\n",
    ")\n",
    "\n",
    "logger = logging.getLogger(__name__)\n",
    "logging.basicConfig(level=logging.WARN)\n",
    "\n",
    "categories = {'months' : [1, 2, 3, 4, 5, 6],\n",
    "              'astronauts' : [\"Antonia\", \"Christian\", \"Edwin\", \"Katherine\", \"Omar\", \"Traci\"],\n",
    "              'missions' : [\"AV-435\", \"CR-260\", \"GX-13\", \"PR-97\", \"WB-664\", \"ZF-15\"],\n",
    "              'subjects' : [\"gamma rays\", \"larval growth\", \"photosynthesis\", \"plant enzymes\", \"radiation\", \"solar storms\"]}\n",
    "\n",
    "puzzle = LogicPuzzle(categories, \"months\")\n"
   ]
  },
  {
   "cell_type": "code",
   "execution_count": null,
   "id": "d77f252f-270e-44c9-9355-07daf5812c37",
   "metadata": {},
   "outputs": [],
   "source": [
    "puzzle.execute_rules()"
   ]
  },
  {
   "cell_type": "code",
   "execution_count": null,
   "id": "229dc037-11cb-4528-9543-4747a12053dd",
   "metadata": {},
   "outputs": [],
   "source": [
    "month_delta = lambda g, lesser, greater, delta: delta_comparison(g, lesser, greater, delta, \"months\")\n",
    "placeholder = lambda g: print(\"derp\")\n",
    "\n",
    "# Rule 1\n",
    "# NOTE: Add a relational/comparison rule that isn't based on a fixed delta\n",
    "puzzle.add_rule(Comparison(lesser=\"AV-435\", greater=\"gamma rays\"))\n",
    "\n",
    "# Rule 2\n",
    "puzzle.add_rule(lambda g: month_delta(g, \"Traci\", \"ZF-15\", 3))\n",
    "\n",
    "# Rule 3\n",
    "puzzle.add_rule(Comparison(lesser=\"Christian\", greater=\"CR-260\"))\n",
    "\n",
    "# Rule 4\n",
    "puzzle.add_rule(lambda g: month_delta(g, \"Edwin\", \"WB-664\", 2))\n",
    "\n",
    "# Rule 5\n",
    "puzzle.add_rule(lambda g: pairs(g, (\"Katherine\", \"ZF-15\"), (5, 4)))\n",
    "\n",
    "# Rule 6\n",
    "puzzle.add_rule(lambda g: g.mark_true(\"Antonia\", \"larval growth\"))\n",
    "\n",
    "# Rule 7\n",
    "puzzle.add_rule(lambda g: mutually_exclusive(g, [\"CR-260\", \"larval growth\", \"photosynthesis\"]))\n",
    "\n",
    "# Rule 8\n",
    "puzzle.add_rule(lambda g: g.mark_false(\"Edwin\", \"gamma rays\"))\n",
    "\n",
    "# Rule 9\n",
    "puzzle.add_rule(lambda g: g.mark_true(\"Omar\", \"solar storms\"))\n",
    "\n",
    "# Rule 10\n",
    "puzzle.add_rule(lambda g: g.mark_false(\"radiation\", \"AV-435\"))\n",
    "\n",
    "# Rule 11\n",
    "puzzle.add_rule(lambda g: g.mark_false(\"Edwin\", \"radiation\"))\n",
    "\n",
    "# Rule 12\n",
    "puzzle.add_rule(lambda g: pairs(g, (\"PR-97\", 4), (\"solar storms\", \"Traci\")))\n"
   ]
  },
  {
   "cell_type": "code",
   "execution_count": null,
   "id": "bb859da6-6711-42cd-b8a9-e2a27a7ce0cb",
   "metadata": {},
   "outputs": [],
   "source": [
    "puzzle.execute_rules()"
   ]
  },
  {
   "cell_type": "code",
   "execution_count": null,
   "id": "a2d64711-b50d-4c37-b201-66912442cd23",
   "metadata": {},
   "outputs": [],
   "source": [
    "assert puzzle.edge_count == 36"
   ]
  }
 ],
 "metadata": {
  "kernelspec": {
   "display_name": "Python 3 (ipykernel)",
   "language": "python",
   "name": "python3"
  },
  "language_info": {
   "codemirror_mode": {
    "name": "ipython",
    "version": 3
   },
   "file_extension": ".py",
   "mimetype": "text/x-python",
   "name": "python",
   "nbconvert_exporter": "python",
   "pygments_lexer": "ipython3",
   "version": "3.12.2"
  }
 },
 "nbformat": 4,
 "nbformat_minor": 5
}
