{
 "cells": [
  {
   "cell_type": "code",
   "execution_count": null,
   "id": "37d66b6b-ab75-44ee-aded-5d843ecda100",
   "metadata": {},
   "outputs": [],
   "source": [
    "import logging\n",
    "\n",
    "from logic_puzzle import LogicPuzzle, either_or, pairs, delta_comparison\n",
    "\n",
    "logger = logging.getLogger(__name__)\n",
    "logging.basicConfig(level=logging.DEBUG)\n",
    "\n",
    "categories = {'pieces' : [500, 750, 1000, 1250, 1500, 1750],\n",
    "              'years' : [1981, 1982, 1992, 1995, 1998, 1999],\n",
    "              'companies' : [\"Buralde\", \"Chaurd\", \"Furoth\", \"Garroda\", \"Irycia\", \"Rynir\"],\n",
    "              'themes' : [\"autumn leaves\", \"city skyline\", \"coral reef\", \"football\", \"outer space\", \"postage stamp\"]}\n",
    "\n",
    "puzzle = LogicPuzzle(categories)\n"
   ]
  },
  {
   "cell_type": "code",
   "execution_count": null,
   "id": "d77f252f-270e-44c9-9355-07daf5812c37",
   "metadata": {},
   "outputs": [],
   "source": [
    "puzzle.execute_rules()"
   ]
  },
  {
   "cell_type": "code",
   "execution_count": null,
   "id": "229dc037-11cb-4528-9543-4747a12053dd",
   "metadata": {},
   "outputs": [],
   "source": [
    "piece_delta = lambda g, lesser, greater, delta: delta_comparison(g, lesser, greater, delta, \"pieces\")\n",
    "\n",
    "# Rule 1 \n",
    "puzzle.add_rule(lambda g: either_or(g, \"outer space\", (\"Irycia\", 1250)))\n",
    "\n",
    "# Rule 2 *\n",
    "puzzle.add_rule(lambda g: piece_delta(g, \"postage stamp\", \"Rynir\", 0.1))\n",
    "\n",
    "# Rule 3 *\n",
    "def rule3(graph):\n",
    "    for p in categories['pieces']:\n",
    "        if p != 500 and p != 1000:\n",
    "            graph.mark_false(\"Chaurd\", p)\n",
    "    either_or(graph, \"Chaurd\", (500, 1000))\n",
    "puzzle.add_rule(rule3)\n",
    "\n",
    "# Rule 4\n",
    "puzzle.add_rule(lambda g: piece_delta(g, \"Garroda\", \"coral reef\", 250))\n",
    "\n",
    "# Rule 5 *\n",
    "def rule5(graph):\n",
    "    graph.mark_false(\"city skyline\", 1998)\n",
    "    graph.mark_false(\"city skyline\", 1981)\n",
    "puzzle.add_rule(rule5)\n",
    "\n",
    "# Rule 6\n",
    "puzzle.add_rule(lambda g: piece_delta(g, 1981, \"football\", 250))\n",
    "\n",
    "# Rule 7\n",
    "puzzle.add_rule(lambda g: pairs(g, (\"outer space\", 1992), (\"Garroda\", 1250)))\n",
    "\n",
    "# Rule 8 *\n",
    "# postage stamp pieces == 1998 pieces + 250\n",
    "puzzle.add_rule(lambda g: piece_delta(g, 1998, \"postage stamp\", 250))\n",
    "\n",
    "# Rule 9 *\n",
    "puzzle.add_rule(lambda g: pairs(g, (\"Furoth\", \"postage stamp\"), (1982, 1250)))\n",
    "\n",
    "# Rule 10 *\n",
    "puzzle.add_rule(lambda g: g.mark_false(\"Irycia\", 750))\n",
    "\n",
    "# Rule 11 *\n",
    "puzzle.add_rule(lambda g: g.mark_false(\"Rynir\", 1999))\n",
    "\n",
    "# Rule 12 *\n",
    "puzzle.add_rule(lambda g: piece_delta(g, \"postage stamp\", 1999, 1000))\n"
   ]
  },
  {
   "cell_type": "code",
   "execution_count": null,
   "id": "bb859da6-6711-42cd-b8a9-e2a27a7ce0cb",
   "metadata": {},
   "outputs": [],
   "source": [
    "puzzle.execute_rules()"
   ]
  },
  {
   "cell_type": "code",
   "execution_count": null,
   "id": "a2d64711-b50d-4c37-b201-66912442cd23",
   "metadata": {},
   "outputs": [],
   "source": [
    "puzzle.mark_false(\"Rynir\", 1500)\n",
    "# puzzle.mark_false(\"Rynir\", 1000)\n",
    "\n",
    "puzzle.execute_rules()"
   ]
  },
  {
   "cell_type": "code",
   "execution_count": null,
   "id": "6eaed516-e5f0-446b-92eb-085e4b3af559",
   "metadata": {},
   "outputs": [],
   "source": [
    "print(\"Chaurd\", puzzle.neighbors_by_type(\"Chaurd\"))"
   ]
  },
  {
   "cell_type": "code",
   "execution_count": null,
   "id": "e7f064a1-8f25-47c1-a115-cf1622fcc912",
   "metadata": {},
   "outputs": [],
   "source": [
    "# puzzle.mark_false(\"outer space\", 1250) # <-- INVALID - leads to 1250 having no company & no theme\n",
    "# puzzle.mark_false(\"outer space\", \"Irycia\") # <-- INVALID - leads to 750 having no company\n",
    "\n",
    "puzzle.mark_true(\"outer space\", 1250)\n",
    "puzzle.execute_rules()"
   ]
  },
  {
   "cell_type": "code",
   "execution_count": null,
   "id": "02a97094-09d7-4095-a082-cb7cb9c2e9fe",
   "metadata": {},
   "outputs": [],
   "source": [
    "import pprint\n",
    "\n",
    "pprint.pprint(puzzle._answers)"
   ]
  },
  {
   "cell_type": "code",
   "execution_count": null,
   "id": "b2108e3d-b497-4292-8a44-7bf12cd7aee3",
   "metadata": {},
   "outputs": [],
   "source": []
  }
 ],
 "metadata": {
  "kernelspec": {
   "display_name": "Python 3 (ipykernel)",
   "language": "python",
   "name": "python3"
  },
  "language_info": {
   "codemirror_mode": {
    "name": "ipython",
    "version": 3
   },
   "file_extension": ".py",
   "mimetype": "text/x-python",
   "name": "python",
   "nbconvert_exporter": "python",
   "pygments_lexer": "ipython3",
   "version": "3.12.2"
  }
 },
 "nbformat": 4,
 "nbformat_minor": 5
}
